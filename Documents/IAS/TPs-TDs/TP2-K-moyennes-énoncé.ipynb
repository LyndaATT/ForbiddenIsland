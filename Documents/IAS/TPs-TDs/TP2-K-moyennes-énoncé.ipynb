{
 "cells": [
  {
   "cell_type": "code",
   "execution_count": 1,
   "metadata": {},
   "outputs": [],
   "source": [
    "import numpy as np\n",
    "\n",
    "#%matplotlib qt  #cette ligne n'est pas indispensable\n",
    "# si `%matplotlib qt` est activée, on aura les figures dans des fenêtres séparées, ce qui permet d'interagir avec la figure:\n",
    "# zoomer, faire défiler, faire tourner (si figure en 3D)\n",
    "# IMPORTANT: si vous commentez %matplotlib qt et importez ensuite `import matplotlib.pyplot as plt`, \n",
    "# vous ne pouvez plus réactiver l'interactivité. Pour le faire, il faudra faire \n",
    "# Noyau > Redémarrer...\n",
    "# inversement, une fois activée, il faut redémarrer le noyau, puis `import matplotlib.pyplot as plt` sans utiliser la ligne `%matplotlib qt`\n",
    "\n",
    "import matplotlib.pyplot as plt"
   ]
  },
  {
   "cell_type": "markdown",
   "metadata": {},
   "source": [
    "# TP 2 - premier algorithme : les K-moyennes\n",
    "\n",
    "## Partie 1 - briques de base de l'algorithme"
   ]
  },
  {
   "cell_type": "code",
   "execution_count": 2,
   "metadata": {},
   "outputs": [],
   "source": [
    "## on charge les données à D=2 dimensions.\n",
    "X = np.loadtxt(\"tp1-data-2.dat\")"
   ]
  },
  {
   "cell_type": "markdown",
   "metadata": {},
   "source": [
    "On va maintenant écrire l'algorithme des K-moyennes. Il a été décrit en cours. \n",
    "\n",
    "C'est un algorithme très simple qui vise a consitituer des groupes de points, lorsque ces points sont similaires.\n",
    "\n",
    "On rappelle que:\n",
    "- le représentant d'un groupe (ou *cluster*) est le point qui est e barycentre des points appartenant au groupe.\n",
    "- un point appartient à un groupe lorsqu'il est plus proche de son représentant que des autres représentants.\n",
    "\n",
    "Conseil: créer 4 fonctions au moins:\n",
    "- une qui met à jour les représentants, à partir d'une affectation des points à chaque groupe\n",
    "- une qui met à jour les affectation,  à partir des représentants de chaque groupe\n",
    "- une qui calcule la distance entre 2 points\n",
    "- une qui calcule le barycentre d'un nombre quelconque de points\n",
    "À chaque fois, écrire d'abord sur papier ce que vous souhaitez, écrivez la fonction d'abord en tatonnant (hors fonction, pour un debug plus facile, sur un cas simple). Une fois mise dans une fonction, testez la fonction.\n",
    "\n",
    "Astuces: \n",
    "- il existe une fonction `np.argmin`\n",
    "- il existe une fonction `np.sum`. On peut sommer seulement le long d'un des axes avec le mot-clef `axis`.\n",
    "- pour mettre `x` à la puissance `a`, on fait `x**a`\n",
    "- commencer par des représentants aléatoires (code fourni), et donc commencer par la bonne mise à jour\n",
    "- testez vos fonctions lors de leur écriture, et seulement ensuite, faites la boucle globale qui constitue l'algo des K-moyennes\n",
    "- en python, il est très efficace de faire des opérations vectorielles plutôt que des boucles et des tests. En particulier, on peut définir le masque : `masque = (tab2 > valeurSeuil)` puis on pourra filtrer un autre tableau `tab1` (si il a la même taille que `tab2`) ainsi: `tab1[masque]`. On aura ainsi seulement les valeurs de `tab1` qui respectent la condtion `tab2 > valeurSeuil`"
   ]
  },
  {
   "cell_type": "code",
   "execution_count": 3,
   "metadata": {},
   "outputs": [
    {
     "data": {
      "text/plain": [
       "(array([[5.31725842, 5.08782969, 7.98860658],\n",
       "        [8.26983157, 1.8020075 , 4.95433358],\n",
       "        [6.59796763, 3.15250573, 0.50211349]]),\n",
       " array([[5.31725842, 5.08782969, 7.98860658],\n",
       "        [8.26983157, 1.8020075 , 4.95433358],\n",
       "        [6.59796763, 3.15250573, 0.50211349]]),\n",
       " array([[ True,  True,  True],\n",
       "        [ True, False, False],\n",
       "        [ True, False, False]]),\n",
       " array([5.31725842, 5.08782969, 7.98860658, 8.26983157, 6.59796763]))"
      ]
     },
     "execution_count": 3,
     "metadata": {},
     "output_type": "execute_result"
    }
   ],
   "source": [
    "## exemple de masque: (ici, de tab1 sur lui meme)\n",
    "tab1 = np.random.random((3,3))*10\n",
    "tab2 = tab1\n",
    "masque = tab2>5\n",
    "selection = tab1[masque]\n",
    "tab1, tab2, masque, selection"
   ]
  },
  {
   "cell_type": "code",
   "execution_count": null,
   "metadata": {},
   "outputs": [],
   "source": []
  },
  {
   "cell_type": "markdown",
   "metadata": {},
   "source": [
    "### À vous de jouer !\n",
    "\n",
    "On vous donne quelques éléments à compléter:"
   ]
  },
  {
   "cell_type": "code",
   "execution_count": 4,
   "metadata": {},
   "outputs": [],
   "source": [
    "N = X.shape[0] #nb de données\n",
    "D = 2 #dim des données\n",
    "K = 3 #nb de clusters"
   ]
  },
  {
   "cell_type": "code",
   "execution_count": 5,
   "metadata": {},
   "outputs": [],
   "source": [
    "affectations = np.zeros((N))\n",
    "representants_initiaux = np.random.random((K,D))"
   ]
  },
  {
   "cell_type": "code",
   "execution_count": 6,
   "metadata": {},
   "outputs": [
    {
     "data": {
      "text/plain": [
       "array([[0.86151632, 0.3170384 ],\n",
       "       [0.10336215, 0.32328285],\n",
       "       [0.06525832, 0.67165759]])"
      ]
     },
     "execution_count": 6,
     "metadata": {},
     "output_type": "execute_result"
    }
   ],
   "source": [
    "representants = representants_initiaux\n",
    "representants"
   ]
  },
  {
   "cell_type": "markdown",
   "metadata": {},
   "source": [
    "--------\n",
    "\n",
    "### Fonction Barycentre\n",
    "\n",
    "On donne un exemple de fonction: la fonciton barycentre"
   ]
  },
  {
   "cell_type": "code",
   "execution_count": 7,
   "metadata": {},
   "outputs": [],
   "source": [
    "def barycentre(X):\n",
    "    Nselection = X.shape[0]\n",
    "    D = X.shape[1]\n",
    "    if Nselection != 0:\n",
    "        resultat = X.sum(axis=0)/Nselection\n",
    "    else:\n",
    "        resultat = X.sum(axis=0)*0.0\n",
    "    return resultat"
   ]
  },
  {
   "cell_type": "code",
   "execution_count": 8,
   "metadata": {},
   "outputs": [
    {
     "data": {
      "text/plain": [
       "(array([[2.6060773 , 5.51412984],\n",
       "        [2.13180305, 2.63671423]]), array([2.36894018, 4.07542204]))"
      ]
     },
     "execution_count": 8,
     "metadata": {},
     "output_type": "execute_result"
    }
   ],
   "source": [
    "## test\n",
    "X[:2], barycentre(X[:2])"
   ]
  },
  {
   "cell_type": "code",
   "execution_count": 9,
   "metadata": {},
   "outputs": [
    {
     "data": {
      "text/plain": [
       "(array([[2.6060773 , 5.51412984],\n",
       "        [2.13180305, 2.63671423],\n",
       "        [1.06512834, 2.92994341]]), array([1.93433623, 3.69359583]))"
      ]
     },
     "execution_count": 9,
     "metadata": {},
     "output_type": "execute_result"
    }
   ],
   "source": [
    "## test\n",
    "X[:3], barycentre(X[:3])"
   ]
  },
  {
   "cell_type": "markdown",
   "metadata": {},
   "source": [
    "### Fonction de calcul de la distance\n",
    "\n",
    "Si ça vous amuse, vous pouvez utilisez d'autres distances que la norme Euclidienne (par exemple, la distance de Manhattan, ou bien la norme max...)"
   ]
  },
  {
   "cell_type": "code",
   "execution_count": 10,
   "metadata": {},
   "outputs": [],
   "source": [
    "def Euc_dist(p1, p2):\n",
    "    return np.sqrt(np.sum((p1 - p2) ** 2, axis=1))"
   ]
  },
  {
   "cell_type": "code",
   "execution_count": 11,
   "metadata": {},
   "outputs": [
    {
     "data": {
      "text/plain": [
       "array([0.604115])"
      ]
     },
     "execution_count": 11,
     "metadata": {},
     "output_type": "execute_result"
    }
   ],
   "source": [
    "a = np.random.rand(1, 3)\n",
    "b = np.random.rand(1, 3)\n",
    "Euc_dist(a,b)"
   ]
  },
  {
   "cell_type": "markdown",
   "metadata": {},
   "source": [
    "### Fonction de mise à jour des affectations à un groupe\n",
    "\n",
    "Chaque point est affecté à un groupe exactement."
   ]
  },
  {
   "cell_type": "code",
   "execution_count": 12,
   "metadata": {},
   "outputs": [],
   "source": [
    "def maj_affectations(X, r):\n",
    "    \"\"\"\n",
    "    params : \n",
    "    X : data\n",
    "    r : centers\n",
    "    return : \n",
    "    assignement array\n",
    "    \"\"\"\n",
    "    a = np.zeros(N)\n",
    "    for i in range(N):\n",
    "        dist = Euc_dist(X[i,:],r)\n",
    "        a[i] =  np.argmin(dist)\n",
    "    return a"
   ]
  },
  {
   "cell_type": "code",
   "execution_count": 13,
   "metadata": {},
   "outputs": [
    {
     "data": {
      "text/plain": [
       "array([2., 0., 2., 0., 2., 0., 0., 2., 2., 1., 1., 1., 2., 2., 0., 2., 0.,\n",
       "       1., 1., 1., 2., 0., 2., 1., 0., 2., 2., 0., 0., 2., 1., 0., 1., 0.,\n",
       "       0., 2., 2., 1., 0., 0., 2., 1., 2., 0., 0., 1., 0., 1., 0., 0., 1.,\n",
       "       1., 0., 0., 0., 0., 0., 2., 2., 1., 2., 1., 2., 0., 2., 0., 1., 2.,\n",
       "       1., 0., 2., 2., 2., 0., 2., 2., 0., 1., 2., 2., 2., 0., 2., 1., 0.,\n",
       "       0., 1., 2., 0., 1., 2., 0., 1., 1., 2., 2., 0., 0., 0., 2.])"
      ]
     },
     "execution_count": 13,
     "metadata": {},
     "output_type": "execute_result"
    }
   ],
   "source": [
    "## test\n",
    "affectations = maj_affectations(X, representants)\n",
    "affectations[:100]"
   ]
  },
  {
   "cell_type": "markdown",
   "metadata": {},
   "source": [
    "### Fonction de mise à jour des représentants de groupe (cluster=groupe)"
   ]
  },
  {
   "cell_type": "code",
   "execution_count": 14,
   "metadata": {},
   "outputs": [],
   "source": [
    "def maj_representants(X, a):\n",
    "    \"\"\"\n",
    "    params : \n",
    "    X : data\n",
    "    a : assignment array\n",
    "    return : \n",
    "    centers array\n",
    "    \"\"\"\n",
    "    r = np.zeros((K,D))\n",
    "    for k in range(K):\n",
    "        Xk = np.where(a==k)\n",
    "        if(len(Xk)!= 0):\n",
    "            r[k,:] = barycentre(X[Xk[0],:])\n",
    "    return r\n"
   ]
  },
  {
   "cell_type": "code",
   "execution_count": 15,
   "metadata": {},
   "outputs": [
    {
     "data": {
      "text/plain": [
       "array([[ 2.54186254,  2.23729186],\n",
       "       [-1.15785343, -1.06329927],\n",
       "       [ 1.32112406,  5.28841545]])"
      ]
     },
     "execution_count": 15,
     "metadata": {},
     "output_type": "execute_result"
    }
   ],
   "source": [
    "## test\n",
    "representants = maj_representants(X, affectations)\n",
    "representants"
   ]
  },
  {
   "cell_type": "markdown",
   "metadata": {},
   "source": [
    "## Partie 2: combiner les briques\n",
    "\n",
    "### K-moyenne: mise en boucle\n",
    "\n",
    "- mettez bout-à-bout ces briques, dans une boucle (après avoir initialisé ce qu'il faut).\n",
    "- testez la boucle d'itération: par exemple avec 20 itérations.\n",
    "- testez aussi l'algorithme pour K=3, ou K=15"
   ]
  },
  {
   "cell_type": "code",
   "execution_count": 16,
   "metadata": {},
   "outputs": [],
   "source": [
    "X = np.loadtxt(\"tp1-data-2.dat\")\n",
    "N = X.shape[0]\n",
    "D = 2\n",
    "K = 2\n",
    "affectations = np.zeros(N)\n",
    "representants_initiaux = np.random.random((K,D))\n",
    "representants = representants_initiaux"
   ]
  },
  {
   "cell_type": "code",
   "execution_count": 17,
   "metadata": {},
   "outputs": [
    {
     "name": "stdout",
     "output_type": "stream",
     "text": [
      "[[-0.36900804 -0.72764794]\n",
      " [ 1.99145668  4.22968101]]\n"
     ]
    }
   ],
   "source": [
    "representants= representants_initiaux\n",
    "itmax = 20\n",
    "for it in range(itmax) :\n",
    "    a = maj_affectations(X, representants)\n",
    "    representants = maj_representants(X, a)\n",
    "print(representants)"
   ]
  },
  {
   "cell_type": "markdown",
   "metadata": {},
   "source": [
    "### Représentation graphique\n",
    "\n",
    "Avec `plt.scatter`, représenter les points associés au groupe 1, puis ceux du groupe 2, sur une même figure. Ils devraient apparaître de deux couleurs différentes. Utilisez des masques.\n",
    "Idéalement, faites une boucle pour k de 1 à K."
   ]
  },
  {
   "cell_type": "code",
   "execution_count": 18,
   "metadata": {},
   "outputs": [
    {
     "data": {
      "text/plain": [
       "<matplotlib.collections.PathCollection at 0x22841587888>"
      ]
     },
     "execution_count": 18,
     "metadata": {},
     "output_type": "execute_result"
    },
    {
     "data": {
      "image/png": "[encoded data removed]",
      "text/plain": [
       "<Figure size 432x288 with 1 Axes>"
      ]
     },
     "metadata": {
      "needs_background": "light"
     },
     "output_type": "display_data"
    }
   ],
   "source": [
    "fig,ax = plt.subplots()\n",
    "affectations = a\n",
    "g=[]\n",
    "for k in range(K) :\n",
    "    gk = (affectations==k)\n",
    "    g.append(gk)\n",
    "    ax.scatter(X[g[k],0],X[g[k],1])\n",
    "ax.scatter(representants[:,0],representants[:,1],color=\"k\",lw=4)"
   ]
  },
  {
   "cell_type": "code",
   "execution_count": 19,
   "metadata": {},
   "outputs": [
    {
     "name": "stdout",
     "output_type": "stream",
     "text": [
      "[[ 2.27067213  2.23791671]\n",
      " [-0.96840322 -1.00938525]\n",
      " [ 1.65731424  5.77827737]]\n"
     ]
    },
    {
     "data": {
      "text/plain": [
       "<matplotlib.collections.PathCollection at 0x228448cee88>"
      ]
     },
     "execution_count": 19,
     "metadata": {},
     "output_type": "execute_result"
    },
    {
     "data": {
      "image/png": "[encoded data removed]",
      "text/plain": [
       "<Figure size 432x288 with 1 Axes>"
      ]
     },
     "metadata": {
      "needs_background": "light"
     },
     "output_type": "display_data"
    }
   ],
   "source": [
    "K = 3\n",
    "affectations = np.zeros(N)\n",
    "representants_initiaux = np.random.random((K,D))\n",
    "representants = representants_initiaux\n",
    "\n",
    "representants= representants_initiaux\n",
    "itmax = 20\n",
    "for it in range(itmax) :\n",
    "    a = maj_affectations(X, representants)\n",
    "    representants = maj_representants(X, a)\n",
    "print(representants)\n",
    "\n",
    "\n",
    "fig,ax = plt.subplots()\n",
    "affectations = a\n",
    "g=[]\n",
    "for k in range(K) :\n",
    "    gk = (affectations==k)\n",
    "    g.append(gk)\n",
    "    ax.scatter(X[g[k],0],X[g[k],1])\n",
    "ax.scatter(representants[:,0],representants[:,1],color=\"k\",lw=4)"
   ]
  },
  {
   "cell_type": "code",
   "execution_count": 20,
   "metadata": {},
   "outputs": [
    {
     "name": "stdout",
     "output_type": "stream",
     "text": [
      "[[ 1.72066625  1.04696933]\n",
      " [-1.39284968 -1.59014598]\n",
      " [-2.71275284 -2.22293249]\n",
      " [ 1.9033916   5.55016465]\n",
      " [ 0.35937289 -0.05417309]\n",
      " [ 1.13916483  7.27947404]\n",
      " [ 3.32449679  1.53710051]\n",
      " [ 3.06260093  3.93121736]\n",
      " [-1.74241367 -0.80149657]\n",
      " [ 2.02898527  2.64295588]\n",
      " [ 2.73799634 -0.79228149]\n",
      " [ 1.08646622  4.06683035]\n",
      " [-0.73210639 -0.33351612]\n",
      " [ 0.27768962  2.65793679]\n",
      " [-0.35725003 -1.0496007 ]]\n"
     ]
    },
    {
     "data": {
      "text/plain": [
       "<matplotlib.collections.PathCollection at 0x22844963788>"
      ]
     },
     "execution_count": 20,
     "metadata": {},
     "output_type": "execute_result"
    },
    {
     "data": {
      "image/png": "[encoded data removed]",
      "text/plain": [
       "<Figure size 432x288 with 1 Axes>"
      ]
     },
     "metadata": {
      "needs_background": "light"
     },
     "output_type": "display_data"
    }
   ],
   "source": [
    "K = 15\n",
    "affectations = np.zeros(N)\n",
    "representants_initiaux = np.random.random((K,D))\n",
    "representants = representants_initiaux\n",
    "\n",
    "representants= representants_initiaux\n",
    "itmax = 20\n",
    "for it in range(itmax) :\n",
    "    a = maj_affectations(X, representants)\n",
    "    representants = maj_representants(X, a)\n",
    "print(representants)\n",
    "\n",
    "\n",
    "fig,ax = plt.subplots()\n",
    "affectations = a\n",
    "g=[]\n",
    "for k in range(K) :\n",
    "    gk = (affectations==k)\n",
    "    g.append(gk)\n",
    "    ax.scatter(X[g[k],0],X[g[k],1])\n",
    "ax.scatter(representants[:,0],representants[:,1],color=\"k\",lw=4)"
   ]
  },
  {
   "cell_type": "markdown",
   "metadata": {},
   "source": [
    "##### Partie 3: mise au propre\n",
    "\n",
    "### Création d'une classe python.\n",
    "\n",
    "Idéalement, une fois vos 4 fonctions crées, \n",
    "- faites une classe, dans laquelle tout le boulot est fait.\n",
    "- testez votre classe."
   ]
  },
  {
   "cell_type": "code",
   "execution_count": 21,
   "metadata": {},
   "outputs": [],
   "source": [
    "class Kmoyennes:\n",
    "\n",
    "    def __init__(self,K,IterationMax): ## instanciation d'un objet du type de la classe.\n",
    "        self.K = K\n",
    "        self.N = 0\n",
    "        self.D = 0\n",
    "        self.IterationMax = IterationMax\n",
    "        self.affectations = np.zeros((self.N))\n",
    "        self.representants = np.zeros((self.K,self.D))\n",
    "    \n",
    "    def fit(self,X):\n",
    "        self.N = X.shape[0]\n",
    "        self.D = X.shape[1]\n",
    "        representants_initiaux = np.random.random((self.K,self.D))\n",
    "        representants = representants_initiaux       \n",
    "        ## boucle (comme plus haut)\n",
    "        for it in range(self.IterationMax) :\n",
    "            affectations = maj_affectations(X, representants)\n",
    "            representants = maj_representants(X, a)\n",
    "            ## on affecte le resultat dans les variables membres de la classe.\n",
    "            self.representants = representants\n",
    "            self.affectations = affectations\n",
    "        return self.representants\n",
    "    \n",
    "    def barycentre(self,X):\n",
    "        Nselection = X.shape[0]\n",
    "        if Nselection != 0:\n",
    "            resultat = X.sum(axis=0)/Nselection\n",
    "        else:\n",
    "            resultat = X.sum(axis=0)*0.0\n",
    "        return resultat\n",
    "    \n",
    "    def maj_affectations(self, X, r):\n",
    "        a = np.zeros(N)\n",
    "        for i in range(N):\n",
    "            dist = Euc_dist(X[i,:],r)\n",
    "            a[i] =  np.argmin(dist)\n",
    "        return a\n",
    "    def maj_representants(self, X, a):\n",
    "        r = np.zeros((K,D))\n",
    "        for k in range(K):\n",
    "            Xk = np.where(a==k)\n",
    "            if(len(Xk)!= 0):\n",
    "                r[k,:] = self.barycentre(X[Xk[0],:])\n",
    "        return r\n"
   ]
  },
  {
   "cell_type": "markdown",
   "metadata": {},
   "source": [
    "On instancie un objet, nommé `Km`, du type \"classe Kmoyennes\"\n",
    "seule la fonction `__init__` est appellée, à ce stade."
   ]
  },
  {
   "cell_type": "code",
   "execution_count": 22,
   "metadata": {},
   "outputs": [],
   "source": [
    "K=3\n",
    "Km = Kmoyennes(K=K, IterationMax=10)"
   ]
  },
  {
   "cell_type": "markdown",
   "metadata": {},
   "source": [
    "On appelle la fonction membre `fit`, contenue dans l'objet `Km`"
   ]
  },
  {
   "cell_type": "code",
   "execution_count": 23,
   "metadata": {},
   "outputs": [
    {
     "data": {
      "text/plain": [
       "<matplotlib.collections.PathCollection at 0x228449d8cc8>"
      ]
     },
     "execution_count": 23,
     "metadata": {},
     "output_type": "execute_result"
    },
    {
     "data": {
      "image/png": "[encoded data removed]",
      "text/plain": [
       "<Figure size 432x288 with 1 Axes>"
      ]
     },
     "metadata": {
      "needs_background": "light"
     },
     "output_type": "display_data"
    }
   ],
   "source": [
    "Km.fit(X=X) \n",
    "affectations = Km.affectations\n",
    "representants = Km.representants\n",
    "\n",
    "## faire le tracé (scatter plot)\n",
    "fig,ax = plt.subplots()\n",
    "g=[]\n",
    "for k in range(K) :\n",
    "    gk = (affectations==k)\n",
    "    g.append(gk)\n",
    "    ax.scatter(X[g[k],0],X[g[k],1])\n",
    "ax.scatter(representants[:,0],representants[:,1],color=\"k\",lw=4)"
   ]
  },
  {
   "cell_type": "markdown",
   "metadata": {},
   "source": [
    "## Partie 4 - jouons avec notre algorithme\n",
    "\n",
    "- Répéter l'invocation complète plusieurs fois. Les couleurs peuvent s'inverser, parfois. Comprenez vous pourquoi ?\n",
    "- Que se passe-t-il si on bride le nombre d'itérations? En particuiler, pour seulement 1 ou 2 itérations?\n",
    "- Que se passe-t-il si on applique notre algo sur le data-set à une dimension, `tp1-data-1.dat` ?\n",
    "\n",
    "Astuce: pour les données à 1D, il faudra comparer l'objet `X` et `X.reshape((-1,1))`. En particulier, observez leur forme (la valeur de leur sattribut `.shape`)\n",
    "\n",
    "Astuce 2: pour le tracé du réultat à 1D, plutot que de faire un scatter plot, on peut faire un histogramme pour chaque groupe. (on peut utiliser `plt.hist` pour aller vite)."
   ]
  },
  {
   "cell_type": "code",
   "execution_count": null,
   "metadata": {},
   "outputs": [],
   "source": []
  },
  {
   "cell_type": "code",
   "execution_count": null,
   "metadata": {},
   "outputs": [],
   "source": []
  }
 ],
 "metadata": {
  "kernelspec": {
   "display_name": "Python 3",
   "language": "python",
   "name": "python3"
  },
  "language_info": {
   "codemirror_mode": {
    "name": "ipython",
    "version": 3
   },
   "file_extension": ".py",
   "mimetype": "text/x-python",
   "name": "python",
   "nbconvert_exporter": "python",
   "pygments_lexer": "ipython3",
   "version": "3.7.4"
  }
 },
 "nbformat": 4,
 "nbformat_minor": 4
}
