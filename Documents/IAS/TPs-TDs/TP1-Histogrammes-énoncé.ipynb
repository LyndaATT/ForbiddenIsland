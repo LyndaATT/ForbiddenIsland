{
 "cells": [
  {
   "cell_type": "code",
   "execution_count": 1,
   "metadata": {},
   "outputs": [],
   "source": [
    "import numpy as np"
   ]
  },
  {
   "cell_type": "code",
   "execution_count": 46,
   "metadata": {},
   "outputs": [],
   "source": [
    "%matplotlib qt"
   ]
  },
  {
   "cell_type": "markdown",
   "metadata": {},
   "source": [
    "si `%matplotlib qt` est activée, on aura les figures dans des fenêtres séparées, ce qui permet d'interagir avec la figure:\n",
    "zoomer, faire défiler, faire tourner (si figure en 3D)\n",
    "\n",
    "IMPORTANT: si vous commentez %matplotlib qt et importez ensuite `import matplotlib.pyplot as plt`, \n",
    "vous ne pouvez plus réactiver l'interactivité. Pour le faire, il faudra faire \n",
    "Noyau > Redémarrer...\n",
    "inversement, une fois activée, il faut redémarrer le noyau, puis `import matplotlib.pyplot as plt` sans utiliser la ligne `%matplotlib qt`\n"
   ]
  },
  {
   "cell_type": "code",
   "execution_count": 3,
   "metadata": {},
   "outputs": [],
   "source": [
    "import matplotlib.pyplot as plt"
   ]
  },
  {
   "cell_type": "markdown",
   "metadata": {},
   "source": [
    "# TP1: \n",
    "\n",
    "On commence en douceur."
   ]
  },
  {
   "cell_type": "markdown",
   "metadata": {},
   "source": [
    "# TP1 - Représentation de données\n",
    "\n",
    "(environ 1h30-1h45 au total)\n",
    "\n",
    "Dans ce TP, nous allons voir/rappeler les façons les plus élémentaires de représenter des données:\n",
    "- des représentations de la distribution de probabilité associée à des données (la pdf, probability density funciton)\n",
    "- la cumulative associée aux données.\n",
    "\n",
    "Et ceci, en dimensions:\n",
    "- D=1\n",
    "- D=2"
   ]
  },
  {
   "cell_type": "markdown",
   "metadata": {},
   "source": [
    "## Partie 1 -  D=1 - PDF et CDF\n",
    "\n",
    "Durée totale (de la dimension $D=1$) : environ 45 minutes\n",
    "\n",
    "- Utilisez `np.shape` ou `monTableauDeTypeNpArray.shape` pour voir a quoi ressemble les métadonnées.\n",
    "- Observez quelques valeurs.\n",
    "- utilsez `plt.scatter` pour avoir un premier aperçu des données."
   ]
  },
  {
   "cell_type": "code",
   "execution_count": 4,
   "metadata": {},
   "outputs": [],
   "source": [
    "X = np.loadtxt(\"tp1-data-1.dat\")"
   ]
  },
  {
   "cell_type": "code",
   "execution_count": 6,
   "metadata": {},
   "outputs": [
    {
     "data": {
      "text/plain": [
       "(2000,)"
      ]
     },
     "execution_count": 6,
     "metadata": {},
     "output_type": "execute_result"
    }
   ],
   "source": [
    "X.shape"
   ]
  },
  {
   "cell_type": "code",
   "execution_count": 8,
   "metadata": {},
   "outputs": [
    {
     "data": {
      "text/plain": [
       "array([-1.48264527, -2.60188975, -2.41982865, -2.09742213, -0.89811601,\n",
       "        0.4368024 , -1.9618104 , -1.63127505, -0.12641691])"
      ]
     },
     "execution_count": 8,
     "metadata": {},
     "output_type": "execute_result"
    }
   ],
   "source": [
    "X[1:10]"
   ]
  },
  {
   "cell_type": "code",
   "execution_count": 20,
   "metadata": {},
   "outputs": [
    {
     "data": {
      "text/plain": [
       "<matplotlib.collections.PathCollection at 0x7f8e98b57880>"
      ]
     },
     "execution_count": 20,
     "metadata": {},
     "output_type": "execute_result"
    },
    {
     "data": {
      "image/png": "[encoded data removed]",
      "text/plain": [
       "<Figure size 432x288 with 1 Axes>"
      ]
     },
     "metadata": {
      "needs_background": "light"
     },
     "output_type": "display_data"
    }
   ],
   "source": [
    "plt.scatter(np.arange(0, X.size, 1), X)"
   ]
  },
  {
   "cell_type": "markdown",
   "metadata": {},
   "source": [
    "### On souhaite tracer l'hisogramme des données, sans trop tricher (mais un peu quand meme)\n",
    "\n",
    "Note: Pour commencer, utilisez un nombre de bins de `Nombre_de_bins=100` (on peut aussi noter `Nbins`)\n",
    "\n",
    "On souhaite: (15 minutes)\n",
    "- définir à la main la liste des \"bins\", c.a.d. des intervalles à utiliser, lorsqu'on \"découpe\" l'intervalle des x (des abcisses) en morceaux, et qu'on \"compte\" le nombre de points qui sont dedans. On peut utiliser `np.linspace` par exemple. Il est recommandé d'utiliser aussi les fonctions `np.min` et `np.max` pour savoir où l'intervalle des bins doit commencer et finir.\n",
    "- utiliser la fonction `np.histogram` (allez voir la doc ! -> sur internet) pour obtenir la densité de proba associée aux données `X` et aux \"bins\" choisis.\n",
    "- tracer le résultat, à l'aide de `plt.plot(votre_array_a_mettre_en_abcisse, votre_array_a_mettre_en_ordonnees)`\n",
    "\n",
    "Ensuite (5 minutes)\n",
    "- faire une boucle pour voir comment le résultat dépend de la valeur de `Nombre_de_bins`.  On pourra utiliser `plt.figure()` pour éviter que tous les tracés (plots) soient sur la même figure, ce qui peut la rendre illisible.\n",
    "- En comparant les figures, pouvez vous dire quelle est \"la bonne valeur\" à choisir pour `Nombre_de_bins`?  Cette question semble-t-elle mathématiquement bien posée ?\n",
    "\n",
    "Bonus: (5 minutes)\n",
    "- re-faire, à la main (sans \"tricher\") le code correspondant à la fonction  `np.histogram`, à la main. (c'est assez facile !!)"
   ]
  },
  {
   "cell_type": "code",
   "execution_count": 21,
   "metadata": {},
   "outputs": [],
   "source": [
    "Nbins = 100"
   ]
  },
  {
   "cell_type": "code",
   "execution_count": 41,
   "metadata": {},
   "outputs": [],
   "source": [
    "bins = np.linspace(np.min(X), np.max(X), Nbins)"
   ]
  },
  {
   "cell_type": "code",
   "execution_count": 42,
   "metadata": {},
   "outputs": [],
   "source": [
    "density, _ = np.histogram(X, bins, density = True)\n",
    "#??np.histogram"
   ]
  },
  {
   "cell_type": "code",
   "execution_count": 56,
   "metadata": {},
   "outputs": [
    {
     "data": {
      "text/plain": [
       "[<matplotlib.lines.Line2D at 0x7f8e7c3b9280>]"
      ]
     },
     "execution_count": 56,
     "metadata": {},
     "output_type": "execute_result"
    }
   ],
   "source": [
    "_ = plt.hist(X, bins, density = True)\n",
    "plt.plot(bins[:-1] - ((bins[0] - bins[1]) / 2), density)"
   ]
  },
  {
   "cell_type": "code",
   "execution_count": null,
   "metadata": {},
   "outputs": [],
   "source": []
  },
  {
   "cell_type": "code",
   "execution_count": 55,
   "metadata": {},
   "outputs": [],
   "source": [
    "#??plt.figure"
   ]
  },
  {
   "cell_type": "code",
   "execution_count": 65,
   "metadata": {},
   "outputs": [],
   "source": [
    "fig, axes = plt.subplots(2, 3)\n",
    "axes = axes.flatten()\n",
    "axes[5].remove()\n",
    "for i, Nbins in enumerate([1000,300,100,30,10]):\n",
    "    bins = np.linspace(np.min(X), np.max(X), Nbins)\n",
    "    _ = axes[i].hist(X, bins, density = True, label=str(Nbins))\n",
    "    axes[i].legend()"
   ]
  },
  {
   "cell_type": "code",
   "execution_count": 66,
   "metadata": {},
   "outputs": [],
   "source": [
    "#La meilleur valeur semble etre 100, c'est ce qui semble le plus propre visuelement."
   ]
  },
  {
   "cell_type": "markdown",
   "metadata": {},
   "source": [
    "## CDF \n",
    "\n",
    "La fonction cumulative (Cumulative Density Function) est définie ainsi, mathématiquement:\n",
    "$$ C(x) = \\int_\\infty ^x ds P(s) $$\n",
    "\n",
    "Tracer la CDF empirique des données: (15 min)\n",
    "- trier les données à l'aide de la fonction `np.sort` (elle ne travaille pas *in-place*, mais renvoie un résultat)\n",
    "- définir les valeurs qui seront prises par la CDF: $0/N, 1/N, 2/N, ... N/N$\n",
    "- tracer cette \"fonction en escalier\" à l'aide de ces définitions (sans forcément garantir que ce soit *exactement* un escalier). Utiliser `plt.plot`"
   ]
  },
  {
   "cell_type": "code",
   "execution_count": 67,
   "metadata": {},
   "outputs": [],
   "source": [
    "N = X.shape[0]"
   ]
  },
  {
   "cell_type": "code",
   "execution_count": 68,
   "metadata": {},
   "outputs": [],
   "source": [
    "X_sorted = np.sort(X)"
   ]
  },
  {
   "cell_type": "code",
   "execution_count": 95,
   "metadata": {},
   "outputs": [],
   "source": [
    "Y = np.arange(0, 1, 1 / N) + 1/ N"
   ]
  },
  {
   "cell_type": "code",
   "execution_count": 99,
   "metadata": {},
   "outputs": [
    {
     "data": {
      "text/plain": [
       "[<matplotlib.lines.Line2D at 0x7f8e6c236340>]"
      ]
     },
     "execution_count": 99,
     "metadata": {},
     "output_type": "execute_result"
    }
   ],
   "source": [
    "plt.plot(X_sorted, Y)"
   ]
  },
  {
   "cell_type": "markdown",
   "metadata": {},
   "source": [
    "### Commentaires:\n",
    "\n",
    "Questions: (3 min)\n",
    "- En quoi cette représentation est-elle **plus** satisfaisante que la PDF ?\n",
    "- En quoi cette représentation est-elle **moins** satisfaisante que la PDF ?"
   ]
  },
  {
   "cell_type": "markdown",
   "metadata": {},
   "source": [
    "Les histogrammes sont visuellement plus parlants.\n",
    "Pour la CDF, plus il y a de valeur plus c'est aplati. Il n'y a pas de \"pertes\"."
   ]
  },
  {
   "cell_type": "markdown",
   "metadata": {},
   "source": [
    "---------"
   ]
  },
  {
   "cell_type": "markdown",
   "metadata": {},
   "source": [
    "## Partie 2 -  D=2 - PDF et CDF\n",
    "\n",
    "Durée totale (de la dimension $D=2$) : environ 30 minutes"
   ]
  },
  {
   "cell_type": "code",
   "execution_count": 98,
   "metadata": {},
   "outputs": [],
   "source": [
    "X2 = np.loadtxt(\"tp1-data-2.dat\")"
   ]
  },
  {
   "cell_type": "markdown",
   "metadata": {},
   "source": [
    "### Prendre en main ce 2ème jeu de données\n",
    "\n",
    "(5-10 minutes)\n",
    "\n",
    "Par exemple:\n",
    "- regarder le format des données (`np.shape(X)` ou `X.shape`)\n",
    "- faire un scatter-plot (`plt.scatter`)"
   ]
  },
  {
   "cell_type": "code",
   "execution_count": 100,
   "metadata": {},
   "outputs": [
    {
     "data": {
      "text/plain": [
       "(1000, 2)"
      ]
     },
     "execution_count": 100,
     "metadata": {},
     "output_type": "execute_result"
    }
   ],
   "source": [
    "np.shape(X2)"
   ]
  },
  {
   "cell_type": "code",
   "execution_count": 103,
   "metadata": {},
   "outputs": [
    {
     "data": {
      "text/plain": [
       "<matplotlib.collections.PathCollection at 0x7f8e67862820>"
      ]
     },
     "execution_count": 103,
     "metadata": {},
     "output_type": "execute_result"
    }
   ],
   "source": [
    "plt.scatter(X2[:, 0], X2[:, 1])"
   ]
  },
  {
   "cell_type": "markdown",
   "metadata": {},
   "source": [
    "### PDF : histogramme d'une distribution de deux variables (données \"en deux dimensions\")\n",
    "\n",
    "On va utiliser `np.histogram2d`.\n",
    "\n",
    "On donne d'abord un exemple de réalisation de tracé en 3D."
   ]
  },
  {
   "cell_type": "code",
   "execution_count": 104,
   "metadata": {},
   "outputs": [],
   "source": [
    "from mpl_toolkits.mplot3d import Axes3D\n",
    "from matplotlib import cm"
   ]
  },
  {
   "cell_type": "code",
   "execution_count": 105,
   "metadata": {},
   "outputs": [
    {
     "data": {
      "text/plain": [
       "<matplotlib.colorbar.Colorbar at 0x7f8e67729280>"
      ]
     },
     "execution_count": 105,
     "metadata": {},
     "output_type": "execute_result"
    }
   ],
   "source": [
    "## exemple de figure 3D\n",
    "fig = plt.figure()\n",
    "ax = fig.gca(projection='3d')\n",
    "Xinput = np.arange(-20,20,1)\n",
    "Yinput = np.arange(-10,10,2)\n",
    "X, Y = np.meshgrid(Xinput, Yinput)  # on fabrique une grille à partir de 2 arrays simples.\n",
    "Z = X**2-Y**2 # la surface à tracer \n",
    "surf = ax.plot_surface(X, Y, Z, cmap=cm.coolwarm, linewidth=0, antialiased=False)\n",
    "fig.colorbar(surf, shrink=0.8, aspect=7)"
   ]
  },
  {
   "cell_type": "code",
   "execution_count": 106,
   "metadata": {},
   "outputs": [
    {
     "data": {
      "text/plain": [
       "(array([-10,  -8,  -6,  -4,  -2,   0,   2,   4,   6,   8]),\n",
       " array([[-10, -10, -10, -10, -10, -10, -10, -10, -10, -10, -10, -10, -10,\n",
       "         -10, -10, -10, -10, -10, -10, -10, -10, -10, -10, -10, -10, -10,\n",
       "         -10, -10, -10, -10, -10, -10, -10, -10, -10, -10, -10, -10, -10,\n",
       "         -10],\n",
       "        [ -8,  -8,  -8,  -8,  -8,  -8,  -8,  -8,  -8,  -8,  -8,  -8,  -8,\n",
       "          -8,  -8,  -8,  -8,  -8,  -8,  -8,  -8,  -8,  -8,  -8,  -8,  -8,\n",
       "          -8,  -8,  -8,  -8,  -8,  -8,  -8,  -8,  -8,  -8,  -8,  -8,  -8,\n",
       "          -8],\n",
       "        [ -6,  -6,  -6,  -6,  -6,  -6,  -6,  -6,  -6,  -6,  -6,  -6,  -6,\n",
       "          -6,  -6,  -6,  -6,  -6,  -6,  -6,  -6,  -6,  -6,  -6,  -6,  -6,\n",
       "          -6,  -6,  -6,  -6,  -6,  -6,  -6,  -6,  -6,  -6,  -6,  -6,  -6,\n",
       "          -6],\n",
       "        [ -4,  -4,  -4,  -4,  -4,  -4,  -4,  -4,  -4,  -4,  -4,  -4,  -4,\n",
       "          -4,  -4,  -4,  -4,  -4,  -4,  -4,  -4,  -4,  -4,  -4,  -4,  -4,\n",
       "          -4,  -4,  -4,  -4,  -4,  -4,  -4,  -4,  -4,  -4,  -4,  -4,  -4,\n",
       "          -4],\n",
       "        [ -2,  -2,  -2,  -2,  -2,  -2,  -2,  -2,  -2,  -2,  -2,  -2,  -2,\n",
       "          -2,  -2,  -2,  -2,  -2,  -2,  -2,  -2,  -2,  -2,  -2,  -2,  -2,\n",
       "          -2,  -2,  -2,  -2,  -2,  -2,  -2,  -2,  -2,  -2,  -2,  -2,  -2,\n",
       "          -2],\n",
       "        [  0,   0,   0,   0,   0,   0,   0,   0,   0,   0,   0,   0,   0,\n",
       "           0,   0,   0,   0,   0,   0,   0,   0,   0,   0,   0,   0,   0,\n",
       "           0,   0,   0,   0,   0,   0,   0,   0,   0,   0,   0,   0,   0,\n",
       "           0],\n",
       "        [  2,   2,   2,   2,   2,   2,   2,   2,   2,   2,   2,   2,   2,\n",
       "           2,   2,   2,   2,   2,   2,   2,   2,   2,   2,   2,   2,   2,\n",
       "           2,   2,   2,   2,   2,   2,   2,   2,   2,   2,   2,   2,   2,\n",
       "           2],\n",
       "        [  4,   4,   4,   4,   4,   4,   4,   4,   4,   4,   4,   4,   4,\n",
       "           4,   4,   4,   4,   4,   4,   4,   4,   4,   4,   4,   4,   4,\n",
       "           4,   4,   4,   4,   4,   4,   4,   4,   4,   4,   4,   4,   4,\n",
       "           4],\n",
       "        [  6,   6,   6,   6,   6,   6,   6,   6,   6,   6,   6,   6,   6,\n",
       "           6,   6,   6,   6,   6,   6,   6,   6,   6,   6,   6,   6,   6,\n",
       "           6,   6,   6,   6,   6,   6,   6,   6,   6,   6,   6,   6,   6,\n",
       "           6],\n",
       "        [  8,   8,   8,   8,   8,   8,   8,   8,   8,   8,   8,   8,   8,\n",
       "           8,   8,   8,   8,   8,   8,   8,   8,   8,   8,   8,   8,   8,\n",
       "           8,   8,   8,   8,   8,   8,   8,   8,   8,   8,   8,   8,   8,\n",
       "           8]]))"
      ]
     },
     "execution_count": 106,
     "metadata": {},
     "output_type": "execute_result"
    }
   ],
   "source": [
    "Yinput, Y"
   ]
  },
  {
   "cell_type": "markdown",
   "metadata": {},
   "source": [
    "### Tracé de l'histogramme\n",
    "\n",
    "(10 minutes)\n",
    "\n",
    "En utilisant `np.histogram2d` (comme ci dessous, mais en adaptant), et en adaptant le code du tracé 3D ci dessus, faites l'histogramme de la distribution X2 avec différentes valeurs de `Nbins`.\n",
    "\n",
    "On peut faire des tracés 3D (comme ci dessus), mais on peut aussi préférer utiliser `plt.contourf` (plutôt plus simple à invoquer et plutôt meilleur pour la visualisation.. ça dépend des préférences de chacun.e)"
   ]
  },
  {
   "cell_type": "code",
   "execution_count": null,
   "metadata": {},
   "outputs": [],
   "source": []
  },
  {
   "cell_type": "code",
   "execution_count": null,
   "metadata": {},
   "outputs": [],
   "source": []
  },
  {
   "cell_type": "code",
   "execution_count": null,
   "metadata": {},
   "outputs": [],
   "source": []
  },
  {
   "cell_type": "markdown",
   "metadata": {},
   "source": [
    "### CDF en D=2 - approximativement\n",
    "\n",
    "(10 min)\n",
    "\n",
    "On n'est pas véritablement intéressés par la construction de la CDF en 2D, donc on va juste faire un tracé qui ressemblera, à l'aide de la fonction `np.cumsum` (**cum**ulative **sum**mation, c.a.d. somme cumulée)"
   ]
  },
  {
   "cell_type": "code",
   "execution_count": null,
   "metadata": {},
   "outputs": [],
   "source": [
    "np.cumsum(density,axis=1).shape, density.shape"
   ]
  },
  {
   "cell_type": "code",
   "execution_count": null,
   "metadata": {},
   "outputs": [],
   "source": []
  },
  {
   "cell_type": "markdown",
   "metadata": {},
   "source": [
    "## Partie 3 - Estimation de la complexité des descriptions.\n",
    "\n",
    "(10-15 minutes, dégainez votre papier-crayon !)\n",
    "\n",
    "Maintenant, il est intéressant de se demander **quelle est la complexité de chaque représentation** des données.\n",
    "\n",
    "On peut par exemple compter le nombre de nombre réels (floats) à enregistrer, dans chacun des cas:\n",
    "- données brutes\n",
    "- représentation en histogramme, avec un nombre Nbins de bins.\n",
    "- représentation avec la CDF (empirique).\n",
    "\n",
    "Et ceci, pour les différentes dimensions:\n",
    "- en D=1\n",
    "- en D=2\n",
    "- en D=D (cas générique) (vous pouvez faire ce cas général directement si vous le sentez bien)."
   ]
  },
  {
   "cell_type": "markdown",
   "metadata": {},
   "source": [
    "\n"
   ]
  },
  {
   "cell_type": "markdown",
   "metadata": {},
   "source": [
    "## Partie 4 - Conclusion\n",
    "\n",
    "(10-15 minutes, papier-crayon)\n",
    "\n",
    "Pour Nbins=100, et N=1 000 000, à partir de quelle valeur de la dimension $D$ est-il plus intéressant de simplement garder les données telles qu'elles sont, plutôt que d'en tracer un histogramme ?\n",
    "\n",
    "On peut chercher à résoudre l'équation (ou au moins, la poser, puis la résoudre à l'aide d'un logiciel de calcul formel, par exemple en ligne avec Wolfram Alpha).\n",
    "\n",
    "On peut aussi calculer le coût du stockage des données/de l'histogramme, en dimensions D=1,2,3,4,5,..."
   ]
  },
  {
   "cell_type": "markdown",
   "metadata": {},
   "source": [
    "\n",
    "\n"
   ]
  },
  {
   "cell_type": "code",
   "execution_count": null,
   "metadata": {},
   "outputs": [],
   "source": []
  },
  {
   "cell_type": "code",
   "execution_count": null,
   "metadata": {},
   "outputs": [],
   "source": []
  }
 ],
 "metadata": {
  "kernelspec": {
   "display_name": "Python 3",
   "language": "python",
   "name": "python3"
  },
  "language_info": {
   "codemirror_mode": {
    "name": "ipython",
    "version": 3
   },
   "file_extension": ".py",
   "mimetype": "text/x-python",
   "name": "python",
   "nbconvert_exporter": "python",
   "pygments_lexer": "ipython3",
   "version": "3.9.1"
  }
 },
 "nbformat": 4,
 "nbformat_minor": 4
}
